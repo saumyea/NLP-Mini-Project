{
  "nbformat": 4,
  "nbformat_minor": 0,
  "metadata": {
    "colab": {
      "provenance": [],
      "authorship_tag": "ABX9TyMqWutftcFmZ0j4LVdC/1zg",
      "include_colab_link": true
    },
    "kernelspec": {
      "name": "python3",
      "display_name": "Python 3"
    },
    "language_info": {
      "name": "python"
    }
  },
  "cells": [
    {
      "cell_type": "markdown",
      "metadata": {
        "id": "view-in-github",
        "colab_type": "text"
      },
      "source": [
        "<a href=\"https://colab.research.google.com/github/saumyea/NLP-Mini-Project/blob/main/Final_NLP_PROJ.ipynb\" target=\"_parent\"><img src=\"https://colab.research.google.com/assets/colab-badge.svg\" alt=\"Open In Colab\"/></a>"
      ]
    },
    {
      "cell_type": "markdown",
      "source": [
        "# **Mount Drive**"
      ],
      "metadata": {
        "id": "B3OGcYHBNg4D"
      }
    },
    {
      "cell_type": "code",
      "execution_count": 1,
      "metadata": {
        "colab": {
          "base_uri": "https://localhost:8080/"
        },
        "id": "Oq6f-OEzJTFJ",
        "outputId": "46cd11a1-d9ad-4e6c-9fea-31dead535dcc"
      },
      "outputs": [
        {
          "output_type": "stream",
          "name": "stdout",
          "text": [
            "Mounted at /content/drive\n"
          ]
        }
      ],
      "source": [
        "from google.colab import drive\n",
        "drive.mount('/content/drive')"
      ]
    },
    {
      "cell_type": "markdown",
      "source": [
        "# **Installing the necessary libraries**"
      ],
      "metadata": {
        "id": "KeMve2djNrPu"
      }
    },
    {
      "cell_type": "code",
      "source": [
        "!pip install indic-nlp-library\n",
        "!pip install nltk                    #Natural Language Toolkit - for handling tokenization\n",
        "!pip install numpy                   #For handling arrays\n",
        "!pip install python-Levenshtein      #For applying edit distance approach\n",
        "!pip install gradio                  #For GUI"
      ],
      "metadata": {
        "colab": {
          "base_uri": "https://localhost:8080/"
        },
        "collapsed": true,
        "id": "t2ITzWAdJu7d",
        "outputId": "399a2bd3-4134-4f2a-e317-eaf6f371964e"
      },
      "execution_count": 2,
      "outputs": [
        {
          "output_type": "stream",
          "name": "stdout",
          "text": [
            "Collecting indic-nlp-library\n",
            "  Downloading indic_nlp_library-0.92-py3-none-any.whl.metadata (5.7 kB)\n",
            "Collecting sphinx-argparse (from indic-nlp-library)\n",
            "  Downloading sphinx_argparse-0.5.2-py3-none-any.whl.metadata (3.7 kB)\n",
            "Collecting sphinx-rtd-theme (from indic-nlp-library)\n",
            "  Downloading sphinx_rtd_theme-3.0.1-py2.py3-none-any.whl.metadata (4.4 kB)\n",
            "Collecting morfessor (from indic-nlp-library)\n",
            "  Downloading Morfessor-2.0.6-py3-none-any.whl.metadata (628 bytes)\n",
            "Requirement already satisfied: pandas in /usr/local/lib/python3.10/dist-packages (from indic-nlp-library) (2.2.2)\n",
            "Requirement already satisfied: numpy in /usr/local/lib/python3.10/dist-packages (from indic-nlp-library) (1.26.4)\n",
            "Requirement already satisfied: python-dateutil>=2.8.2 in /usr/local/lib/python3.10/dist-packages (from pandas->indic-nlp-library) (2.8.2)\n",
            "Requirement already satisfied: pytz>=2020.1 in /usr/local/lib/python3.10/dist-packages (from pandas->indic-nlp-library) (2024.2)\n",
            "Requirement already satisfied: tzdata>=2022.7 in /usr/local/lib/python3.10/dist-packages (from pandas->indic-nlp-library) (2024.2)\n",
            "Collecting sphinx>=5.1.0 (from sphinx-argparse->indic-nlp-library)\n",
            "  Downloading sphinx-8.1.3-py3-none-any.whl.metadata (6.4 kB)\n",
            "Collecting docutils>=0.19 (from sphinx-argparse->indic-nlp-library)\n",
            "  Downloading docutils-0.21.2-py3-none-any.whl.metadata (2.8 kB)\n",
            "Collecting sphinxcontrib-jquery<5,>=4 (from sphinx-rtd-theme->indic-nlp-library)\n",
            "  Downloading sphinxcontrib_jquery-4.1-py2.py3-none-any.whl.metadata (2.6 kB)\n",
            "Requirement already satisfied: six>=1.5 in /usr/local/lib/python3.10/dist-packages (from python-dateutil>=2.8.2->pandas->indic-nlp-library) (1.16.0)\n",
            "Requirement already satisfied: sphinxcontrib-applehelp>=1.0.7 in /usr/local/lib/python3.10/dist-packages (from sphinx>=5.1.0->sphinx-argparse->indic-nlp-library) (2.0.0)\n",
            "Requirement already satisfied: sphinxcontrib-devhelp>=1.0.6 in /usr/local/lib/python3.10/dist-packages (from sphinx>=5.1.0->sphinx-argparse->indic-nlp-library) (2.0.0)\n",
            "Requirement already satisfied: sphinxcontrib-htmlhelp>=2.0.6 in /usr/local/lib/python3.10/dist-packages (from sphinx>=5.1.0->sphinx-argparse->indic-nlp-library) (2.1.0)\n",
            "Requirement already satisfied: sphinxcontrib-jsmath>=1.0.1 in /usr/local/lib/python3.10/dist-packages (from sphinx>=5.1.0->sphinx-argparse->indic-nlp-library) (1.0.1)\n",
            "Requirement already satisfied: sphinxcontrib-qthelp>=1.0.6 in /usr/local/lib/python3.10/dist-packages (from sphinx>=5.1.0->sphinx-argparse->indic-nlp-library) (2.0.0)\n",
            "Requirement already satisfied: sphinxcontrib-serializinghtml>=1.1.9 in /usr/local/lib/python3.10/dist-packages (from sphinx>=5.1.0->sphinx-argparse->indic-nlp-library) (2.0.0)\n",
            "Requirement already satisfied: Jinja2>=3.1 in /usr/local/lib/python3.10/dist-packages (from sphinx>=5.1.0->sphinx-argparse->indic-nlp-library) (3.1.4)\n",
            "Requirement already satisfied: Pygments>=2.17 in /usr/local/lib/python3.10/dist-packages (from sphinx>=5.1.0->sphinx-argparse->indic-nlp-library) (2.18.0)\n",
            "Requirement already satisfied: snowballstemmer>=2.2 in /usr/local/lib/python3.10/dist-packages (from sphinx>=5.1.0->sphinx-argparse->indic-nlp-library) (2.2.0)\n",
            "Requirement already satisfied: babel>=2.13 in /usr/local/lib/python3.10/dist-packages (from sphinx>=5.1.0->sphinx-argparse->indic-nlp-library) (2.16.0)\n",
            "Requirement already satisfied: alabaster>=0.7.14 in /usr/local/lib/python3.10/dist-packages (from sphinx>=5.1.0->sphinx-argparse->indic-nlp-library) (0.7.16)\n",
            "Requirement already satisfied: imagesize>=1.3 in /usr/local/lib/python3.10/dist-packages (from sphinx>=5.1.0->sphinx-argparse->indic-nlp-library) (1.4.1)\n",
            "Requirement already satisfied: requests>=2.30.0 in /usr/local/lib/python3.10/dist-packages (from sphinx>=5.1.0->sphinx-argparse->indic-nlp-library) (2.32.3)\n",
            "Requirement already satisfied: packaging>=23.0 in /usr/local/lib/python3.10/dist-packages (from sphinx>=5.1.0->sphinx-argparse->indic-nlp-library) (24.1)\n",
            "Requirement already satisfied: tomli>=2 in /usr/local/lib/python3.10/dist-packages (from sphinx>=5.1.0->sphinx-argparse->indic-nlp-library) (2.0.2)\n",
            "Requirement already satisfied: MarkupSafe>=2.0 in /usr/local/lib/python3.10/dist-packages (from Jinja2>=3.1->sphinx>=5.1.0->sphinx-argparse->indic-nlp-library) (3.0.2)\n",
            "Requirement already satisfied: charset-normalizer<4,>=2 in /usr/local/lib/python3.10/dist-packages (from requests>=2.30.0->sphinx>=5.1.0->sphinx-argparse->indic-nlp-library) (3.4.0)\n",
            "Requirement already satisfied: idna<4,>=2.5 in /usr/local/lib/python3.10/dist-packages (from requests>=2.30.0->sphinx>=5.1.0->sphinx-argparse->indic-nlp-library) (3.10)\n",
            "Requirement already satisfied: urllib3<3,>=1.21.1 in /usr/local/lib/python3.10/dist-packages (from requests>=2.30.0->sphinx>=5.1.0->sphinx-argparse->indic-nlp-library) (2.2.3)\n",
            "Requirement already satisfied: certifi>=2017.4.17 in /usr/local/lib/python3.10/dist-packages (from requests>=2.30.0->sphinx>=5.1.0->sphinx-argparse->indic-nlp-library) (2024.8.30)\n",
            "Downloading indic_nlp_library-0.92-py3-none-any.whl (40 kB)\n",
            "\u001b[2K   \u001b[90m━━━━━━━━━━━━━━━━━━━━━━━━━━━━━━━━━━━━━━━━\u001b[0m \u001b[32m40.3/40.3 kB\u001b[0m \u001b[31m3.7 MB/s\u001b[0m eta \u001b[36m0:00:00\u001b[0m\n",
            "\u001b[?25hDownloading Morfessor-2.0.6-py3-none-any.whl (35 kB)\n",
            "Downloading sphinx_argparse-0.5.2-py3-none-any.whl (12 kB)\n",
            "Downloading sphinx_rtd_theme-3.0.1-py2.py3-none-any.whl (7.7 MB)\n",
            "\u001b[2K   \u001b[90m━━━━━━━━━━━━━━━━━━━━━━━━━━━━━━━━━━━━━━━━\u001b[0m \u001b[32m7.7/7.7 MB\u001b[0m \u001b[31m89.8 MB/s\u001b[0m eta \u001b[36m0:00:00\u001b[0m\n",
            "\u001b[?25hDownloading docutils-0.21.2-py3-none-any.whl (587 kB)\n",
            "\u001b[2K   \u001b[90m━━━━━━━━━━━━━━━━━━━━━━━━━━━━━━━━━━━━━━━━\u001b[0m \u001b[32m587.4/587.4 kB\u001b[0m \u001b[31m42.9 MB/s\u001b[0m eta \u001b[36m0:00:00\u001b[0m\n",
            "\u001b[?25hDownloading sphinx-8.1.3-py3-none-any.whl (3.5 MB)\n",
            "\u001b[2K   \u001b[90m━━━━━━━━━━━━━━━━━━━━━━━━━━━━━━━━━━━━━━━━\u001b[0m \u001b[32m3.5/3.5 MB\u001b[0m \u001b[31m82.9 MB/s\u001b[0m eta \u001b[36m0:00:00\u001b[0m\n",
            "\u001b[?25hDownloading sphinxcontrib_jquery-4.1-py2.py3-none-any.whl (121 kB)\n",
            "\u001b[2K   \u001b[90m━━━━━━━━━━━━━━━━━━━━━━━━━━━━━━━━━━━━━━━━\u001b[0m \u001b[32m121.1/121.1 kB\u001b[0m \u001b[31m11.6 MB/s\u001b[0m eta \u001b[36m0:00:00\u001b[0m\n",
            "\u001b[?25hInstalling collected packages: morfessor, docutils, sphinx, sphinxcontrib-jquery, sphinx-argparse, sphinx-rtd-theme, indic-nlp-library\n",
            "  Attempting uninstall: docutils\n",
            "    Found existing installation: docutils 0.18.1\n",
            "    Uninstalling docutils-0.18.1:\n",
            "      Successfully uninstalled docutils-0.18.1\n",
            "  Attempting uninstall: sphinx\n",
            "    Found existing installation: Sphinx 5.0.2\n",
            "    Uninstalling Sphinx-5.0.2:\n",
            "      Successfully uninstalled Sphinx-5.0.2\n",
            "Successfully installed docutils-0.21.2 indic-nlp-library-0.92 morfessor-2.0.6 sphinx-8.1.3 sphinx-argparse-0.5.2 sphinx-rtd-theme-3.0.1 sphinxcontrib-jquery-4.1\n",
            "Requirement already satisfied: nltk in /usr/local/lib/python3.10/dist-packages (3.8.1)\n",
            "Requirement already satisfied: click in /usr/local/lib/python3.10/dist-packages (from nltk) (8.1.7)\n",
            "Requirement already satisfied: joblib in /usr/local/lib/python3.10/dist-packages (from nltk) (1.4.2)\n",
            "Requirement already satisfied: regex>=2021.8.3 in /usr/local/lib/python3.10/dist-packages (from nltk) (2024.9.11)\n",
            "Requirement already satisfied: tqdm in /usr/local/lib/python3.10/dist-packages (from nltk) (4.66.5)\n",
            "Requirement already satisfied: numpy in /usr/local/lib/python3.10/dist-packages (1.26.4)\n",
            "Collecting python-Levenshtein\n",
            "  Downloading python_Levenshtein-0.26.0-py3-none-any.whl.metadata (3.7 kB)\n",
            "Collecting Levenshtein==0.26.0 (from python-Levenshtein)\n",
            "  Downloading levenshtein-0.26.0-cp310-cp310-manylinux_2_17_x86_64.manylinux2014_x86_64.whl.metadata (3.2 kB)\n",
            "Collecting rapidfuzz<4.0.0,>=3.9.0 (from Levenshtein==0.26.0->python-Levenshtein)\n",
            "  Downloading rapidfuzz-3.10.1-cp310-cp310-manylinux_2_17_x86_64.manylinux2014_x86_64.whl.metadata (11 kB)\n",
            "Downloading python_Levenshtein-0.26.0-py3-none-any.whl (9.4 kB)\n",
            "Downloading levenshtein-0.26.0-cp310-cp310-manylinux_2_17_x86_64.manylinux2014_x86_64.whl (162 kB)\n",
            "\u001b[2K   \u001b[90m━━━━━━━━━━━━━━━━━━━━━━━━━━━━━━━━━━━━━━━━\u001b[0m \u001b[32m162.6/162.6 kB\u001b[0m \u001b[31m9.0 MB/s\u001b[0m eta \u001b[36m0:00:00\u001b[0m\n",
            "\u001b[?25hDownloading rapidfuzz-3.10.1-cp310-cp310-manylinux_2_17_x86_64.manylinux2014_x86_64.whl (3.1 MB)\n",
            "\u001b[2K   \u001b[90m━━━━━━━━━━━━━━━━━━━━━━━━━━━━━━━━━━━━━━━━\u001b[0m \u001b[32m3.1/3.1 MB\u001b[0m \u001b[31m29.2 MB/s\u001b[0m eta \u001b[36m0:00:00\u001b[0m\n",
            "\u001b[?25hInstalling collected packages: rapidfuzz, Levenshtein, python-Levenshtein\n",
            "Successfully installed Levenshtein-0.26.0 python-Levenshtein-0.26.0 rapidfuzz-3.10.1\n",
            "Collecting gradio\n",
            "  Downloading gradio-5.3.0-py3-none-any.whl.metadata (15 kB)\n",
            "Collecting aiofiles<24.0,>=22.0 (from gradio)\n",
            "  Downloading aiofiles-23.2.1-py3-none-any.whl.metadata (9.7 kB)\n",
            "Requirement already satisfied: anyio<5.0,>=3.0 in /usr/local/lib/python3.10/dist-packages (from gradio) (3.7.1)\n",
            "Collecting fastapi<1.0,>=0.115.2 (from gradio)\n",
            "  Downloading fastapi-0.115.3-py3-none-any.whl.metadata (27 kB)\n",
            "Collecting ffmpy (from gradio)\n",
            "  Downloading ffmpy-0.4.0-py3-none-any.whl.metadata (2.9 kB)\n",
            "Collecting gradio-client==1.4.2 (from gradio)\n",
            "  Downloading gradio_client-1.4.2-py3-none-any.whl.metadata (7.1 kB)\n",
            "Collecting httpx>=0.24.1 (from gradio)\n",
            "  Downloading httpx-0.27.2-py3-none-any.whl.metadata (7.1 kB)\n",
            "Collecting huggingface-hub>=0.25.1 (from gradio)\n",
            "  Downloading huggingface_hub-0.26.1-py3-none-any.whl.metadata (13 kB)\n",
            "Requirement already satisfied: jinja2<4.0 in /usr/local/lib/python3.10/dist-packages (from gradio) (3.1.4)\n",
            "Collecting markupsafe~=2.0 (from gradio)\n",
            "  Downloading MarkupSafe-2.1.5-cp310-cp310-manylinux_2_17_x86_64.manylinux2014_x86_64.whl.metadata (3.0 kB)\n",
            "Requirement already satisfied: numpy<3.0,>=1.0 in /usr/local/lib/python3.10/dist-packages (from gradio) (1.26.4)\n",
            "Collecting orjson~=3.0 (from gradio)\n",
            "  Downloading orjson-3.10.10-cp310-cp310-manylinux_2_17_x86_64.manylinux2014_x86_64.whl.metadata (50 kB)\n",
            "\u001b[2K     \u001b[90m━━━━━━━━━━━━━━━━━━━━━━━━━━━━━━━━━━━━━━━━\u001b[0m \u001b[32m50.6/50.6 kB\u001b[0m \u001b[31m4.1 MB/s\u001b[0m eta \u001b[36m0:00:00\u001b[0m\n",
            "\u001b[?25hRequirement already satisfied: packaging in /usr/local/lib/python3.10/dist-packages (from gradio) (24.1)\n",
            "Requirement already satisfied: pandas<3.0,>=1.0 in /usr/local/lib/python3.10/dist-packages (from gradio) (2.2.2)\n",
            "Requirement already satisfied: pillow<11.0,>=8.0 in /usr/local/lib/python3.10/dist-packages (from gradio) (10.4.0)\n",
            "Requirement already satisfied: pydantic>=2.0 in /usr/local/lib/python3.10/dist-packages (from gradio) (2.9.2)\n",
            "Collecting pydub (from gradio)\n",
            "  Downloading pydub-0.25.1-py2.py3-none-any.whl.metadata (1.4 kB)\n",
            "Collecting python-multipart>=0.0.9 (from gradio)\n",
            "  Downloading python_multipart-0.0.12-py3-none-any.whl.metadata (1.9 kB)\n",
            "Requirement already satisfied: pyyaml<7.0,>=5.0 in /usr/local/lib/python3.10/dist-packages (from gradio) (6.0.2)\n",
            "Collecting ruff>=0.2.2 (from gradio)\n",
            "  Downloading ruff-0.7.1-py3-none-manylinux_2_17_x86_64.manylinux2014_x86_64.whl.metadata (25 kB)\n",
            "Collecting semantic-version~=2.0 (from gradio)\n",
            "  Downloading semantic_version-2.10.0-py2.py3-none-any.whl.metadata (9.7 kB)\n",
            "Collecting starlette<1.0,>=0.40.0 (from gradio)\n",
            "  Downloading starlette-0.41.0-py3-none-any.whl.metadata (6.0 kB)\n",
            "Collecting tomlkit==0.12.0 (from gradio)\n",
            "  Downloading tomlkit-0.12.0-py3-none-any.whl.metadata (2.7 kB)\n",
            "Requirement already satisfied: typer<1.0,>=0.12 in /usr/local/lib/python3.10/dist-packages (from gradio) (0.12.5)\n",
            "Requirement already satisfied: typing-extensions~=4.0 in /usr/local/lib/python3.10/dist-packages (from gradio) (4.12.2)\n",
            "Collecting uvicorn>=0.14.0 (from gradio)\n",
            "  Downloading uvicorn-0.32.0-py3-none-any.whl.metadata (6.6 kB)\n",
            "Requirement already satisfied: fsspec in /usr/local/lib/python3.10/dist-packages (from gradio-client==1.4.2->gradio) (2024.6.1)\n",
            "Collecting websockets<13.0,>=10.0 (from gradio-client==1.4.2->gradio)\n",
            "  Downloading websockets-12.0-cp310-cp310-manylinux_2_5_x86_64.manylinux1_x86_64.manylinux_2_17_x86_64.manylinux2014_x86_64.whl.metadata (6.6 kB)\n",
            "Requirement already satisfied: idna>=2.8 in /usr/local/lib/python3.10/dist-packages (from anyio<5.0,>=3.0->gradio) (3.10)\n",
            "Requirement already satisfied: sniffio>=1.1 in /usr/local/lib/python3.10/dist-packages (from anyio<5.0,>=3.0->gradio) (1.3.1)\n",
            "Requirement already satisfied: exceptiongroup in /usr/local/lib/python3.10/dist-packages (from anyio<5.0,>=3.0->gradio) (1.2.2)\n",
            "Requirement already satisfied: certifi in /usr/local/lib/python3.10/dist-packages (from httpx>=0.24.1->gradio) (2024.8.30)\n",
            "Collecting httpcore==1.* (from httpx>=0.24.1->gradio)\n",
            "  Downloading httpcore-1.0.6-py3-none-any.whl.metadata (21 kB)\n",
            "Collecting h11<0.15,>=0.13 (from httpcore==1.*->httpx>=0.24.1->gradio)\n",
            "  Downloading h11-0.14.0-py3-none-any.whl.metadata (8.2 kB)\n",
            "Requirement already satisfied: filelock in /usr/local/lib/python3.10/dist-packages (from huggingface-hub>=0.25.1->gradio) (3.16.1)\n",
            "Requirement already satisfied: requests in /usr/local/lib/python3.10/dist-packages (from huggingface-hub>=0.25.1->gradio) (2.32.3)\n",
            "Requirement already satisfied: tqdm>=4.42.1 in /usr/local/lib/python3.10/dist-packages (from huggingface-hub>=0.25.1->gradio) (4.66.5)\n",
            "Requirement already satisfied: python-dateutil>=2.8.2 in /usr/local/lib/python3.10/dist-packages (from pandas<3.0,>=1.0->gradio) (2.8.2)\n",
            "Requirement already satisfied: pytz>=2020.1 in /usr/local/lib/python3.10/dist-packages (from pandas<3.0,>=1.0->gradio) (2024.2)\n",
            "Requirement already satisfied: tzdata>=2022.7 in /usr/local/lib/python3.10/dist-packages (from pandas<3.0,>=1.0->gradio) (2024.2)\n",
            "Requirement already satisfied: annotated-types>=0.6.0 in /usr/local/lib/python3.10/dist-packages (from pydantic>=2.0->gradio) (0.7.0)\n",
            "Requirement already satisfied: pydantic-core==2.23.4 in /usr/local/lib/python3.10/dist-packages (from pydantic>=2.0->gradio) (2.23.4)\n",
            "Requirement already satisfied: click>=8.0.0 in /usr/local/lib/python3.10/dist-packages (from typer<1.0,>=0.12->gradio) (8.1.7)\n",
            "Requirement already satisfied: shellingham>=1.3.0 in /usr/local/lib/python3.10/dist-packages (from typer<1.0,>=0.12->gradio) (1.5.4)\n",
            "Requirement already satisfied: rich>=10.11.0 in /usr/local/lib/python3.10/dist-packages (from typer<1.0,>=0.12->gradio) (13.9.3)\n",
            "Requirement already satisfied: six>=1.5 in /usr/local/lib/python3.10/dist-packages (from python-dateutil>=2.8.2->pandas<3.0,>=1.0->gradio) (1.16.0)\n",
            "Requirement already satisfied: markdown-it-py>=2.2.0 in /usr/local/lib/python3.10/dist-packages (from rich>=10.11.0->typer<1.0,>=0.12->gradio) (3.0.0)\n",
            "Requirement already satisfied: pygments<3.0.0,>=2.13.0 in /usr/local/lib/python3.10/dist-packages (from rich>=10.11.0->typer<1.0,>=0.12->gradio) (2.18.0)\n",
            "Requirement already satisfied: charset-normalizer<4,>=2 in /usr/local/lib/python3.10/dist-packages (from requests->huggingface-hub>=0.25.1->gradio) (3.4.0)\n",
            "Requirement already satisfied: urllib3<3,>=1.21.1 in /usr/local/lib/python3.10/dist-packages (from requests->huggingface-hub>=0.25.1->gradio) (2.2.3)\n",
            "Requirement already satisfied: mdurl~=0.1 in /usr/local/lib/python3.10/dist-packages (from markdown-it-py>=2.2.0->rich>=10.11.0->typer<1.0,>=0.12->gradio) (0.1.2)\n",
            "Downloading gradio-5.3.0-py3-none-any.whl (56.7 MB)\n",
            "\u001b[2K   \u001b[90m━━━━━━━━━━━━━━━━━━━━━━━━━━━━━━━━━━━━━━━━\u001b[0m \u001b[32m56.7/56.7 MB\u001b[0m \u001b[31m11.8 MB/s\u001b[0m eta \u001b[36m0:00:00\u001b[0m\n",
            "\u001b[?25hDownloading gradio_client-1.4.2-py3-none-any.whl (319 kB)\n",
            "\u001b[2K   \u001b[90m━━━━━━━━━━━━━━━━━━━━━━━━━━━━━━━━━━━━━━━━\u001b[0m \u001b[32m319.8/319.8 kB\u001b[0m \u001b[31m23.7 MB/s\u001b[0m eta \u001b[36m0:00:00\u001b[0m\n",
            "\u001b[?25hDownloading tomlkit-0.12.0-py3-none-any.whl (37 kB)\n",
            "Downloading aiofiles-23.2.1-py3-none-any.whl (15 kB)\n",
            "Downloading fastapi-0.115.3-py3-none-any.whl (94 kB)\n",
            "\u001b[2K   \u001b[90m━━━━━━━━━━━━━━━━━━━━━━━━━━━━━━━━━━━━━━━━\u001b[0m \u001b[32m94.6/94.6 kB\u001b[0m \u001b[31m8.1 MB/s\u001b[0m eta \u001b[36m0:00:00\u001b[0m\n",
            "\u001b[?25hDownloading httpx-0.27.2-py3-none-any.whl (76 kB)\n",
            "\u001b[2K   \u001b[90m━━━━━━━━━━━━━━━━━━━━━━━━━━━━━━━━━━━━━━━━\u001b[0m \u001b[32m76.4/76.4 kB\u001b[0m \u001b[31m6.5 MB/s\u001b[0m eta \u001b[36m0:00:00\u001b[0m\n",
            "\u001b[?25hDownloading httpcore-1.0.6-py3-none-any.whl (78 kB)\n",
            "\u001b[2K   \u001b[90m━━━━━━━━━━━━━━━━━━━━━━━━━━━━━━━━━━━━━━━━\u001b[0m \u001b[32m78.0/78.0 kB\u001b[0m \u001b[31m6.1 MB/s\u001b[0m eta \u001b[36m0:00:00\u001b[0m\n",
            "\u001b[?25hDownloading huggingface_hub-0.26.1-py3-none-any.whl (447 kB)\n",
            "\u001b[2K   \u001b[90m━━━━━━━━━━━━━━━━━━━━━━━━━━━━━━━━━━━━━━━━\u001b[0m \u001b[32m447.4/447.4 kB\u001b[0m \u001b[31m32.6 MB/s\u001b[0m eta \u001b[36m0:00:00\u001b[0m\n",
            "\u001b[?25hDownloading MarkupSafe-2.1.5-cp310-cp310-manylinux_2_17_x86_64.manylinux2014_x86_64.whl (25 kB)\n",
            "Downloading orjson-3.10.10-cp310-cp310-manylinux_2_17_x86_64.manylinux2014_x86_64.whl (144 kB)\n",
            "\u001b[2K   \u001b[90m━━━━━━━━━━━━━━━━━━━━━━━━━━━━━━━━━━━━━━━━\u001b[0m \u001b[32m144.5/144.5 kB\u001b[0m \u001b[31m12.5 MB/s\u001b[0m eta \u001b[36m0:00:00\u001b[0m\n",
            "\u001b[?25hDownloading python_multipart-0.0.12-py3-none-any.whl (23 kB)\n",
            "Downloading ruff-0.7.1-py3-none-manylinux_2_17_x86_64.manylinux2014_x86_64.whl (11.0 MB)\n",
            "\u001b[2K   \u001b[90m━━━━━━━━━━━━━━━━━━━━━━━━━━━━━━━━━━━━━━━━\u001b[0m \u001b[32m11.0/11.0 MB\u001b[0m \u001b[31m106.3 MB/s\u001b[0m eta \u001b[36m0:00:00\u001b[0m\n",
            "\u001b[?25hDownloading semantic_version-2.10.0-py2.py3-none-any.whl (15 kB)\n",
            "Downloading starlette-0.41.0-py3-none-any.whl (73 kB)\n",
            "\u001b[2K   \u001b[90m━━━━━━━━━━━━━━━━━━━━━━━━━━━━━━━━━━━━━━━━\u001b[0m \u001b[32m73.2/73.2 kB\u001b[0m \u001b[31m6.0 MB/s\u001b[0m eta \u001b[36m0:00:00\u001b[0m\n",
            "\u001b[?25hDownloading uvicorn-0.32.0-py3-none-any.whl (63 kB)\n",
            "\u001b[2K   \u001b[90m━━━━━━━━━━━━━━━━━━━━━━━━━━━━━━━━━━━━━━━━\u001b[0m \u001b[32m63.7/63.7 kB\u001b[0m \u001b[31m6.0 MB/s\u001b[0m eta \u001b[36m0:00:00\u001b[0m\n",
            "\u001b[?25hDownloading ffmpy-0.4.0-py3-none-any.whl (5.8 kB)\n",
            "Downloading pydub-0.25.1-py2.py3-none-any.whl (32 kB)\n",
            "Downloading h11-0.14.0-py3-none-any.whl (58 kB)\n",
            "\u001b[2K   \u001b[90m━━━━━━━━━━━━━━━━━━━━━━━━━━━━━━━━━━━━━━━━\u001b[0m \u001b[32m58.3/58.3 kB\u001b[0m \u001b[31m5.5 MB/s\u001b[0m eta \u001b[36m0:00:00\u001b[0m\n",
            "\u001b[?25hDownloading websockets-12.0-cp310-cp310-manylinux_2_5_x86_64.manylinux1_x86_64.manylinux_2_17_x86_64.manylinux2014_x86_64.whl (130 kB)\n",
            "\u001b[2K   \u001b[90m━━━━━━━━━━━━━━━━━━━━━━━━━━━━━━━━━━━━━━━━\u001b[0m \u001b[32m130.2/130.2 kB\u001b[0m \u001b[31m11.9 MB/s\u001b[0m eta \u001b[36m0:00:00\u001b[0m\n",
            "\u001b[?25hInstalling collected packages: pydub, websockets, tomlkit, semantic-version, ruff, python-multipart, orjson, markupsafe, h11, ffmpy, aiofiles, uvicorn, starlette, huggingface-hub, httpcore, httpx, fastapi, gradio-client, gradio\n",
            "  Attempting uninstall: markupsafe\n",
            "    Found existing installation: MarkupSafe 3.0.2\n",
            "    Uninstalling MarkupSafe-3.0.2:\n",
            "      Successfully uninstalled MarkupSafe-3.0.2\n",
            "  Attempting uninstall: huggingface-hub\n",
            "    Found existing installation: huggingface-hub 0.24.7\n",
            "    Uninstalling huggingface-hub-0.24.7:\n",
            "      Successfully uninstalled huggingface-hub-0.24.7\n",
            "Successfully installed aiofiles-23.2.1 fastapi-0.115.3 ffmpy-0.4.0 gradio-5.3.0 gradio-client-1.4.2 h11-0.14.0 httpcore-1.0.6 httpx-0.27.2 huggingface-hub-0.26.1 markupsafe-2.1.5 orjson-3.10.10 pydub-0.25.1 python-multipart-0.0.12 ruff-0.7.1 semantic-version-2.10.0 starlette-0.41.0 tomlkit-0.12.0 uvicorn-0.32.0 websockets-12.0\n"
          ]
        }
      ]
    },
    {
      "cell_type": "code",
      "source": [
        "!pip install swalign"
      ],
      "metadata": {
        "colab": {
          "base_uri": "https://localhost:8080/"
        },
        "id": "n5rEROrA0FFx",
        "outputId": "ecace8e4-4016-4003-be7e-6d87b02a7129"
      },
      "execution_count": 4,
      "outputs": [
        {
          "output_type": "stream",
          "name": "stdout",
          "text": [
            "Collecting swalign\n",
            "  Downloading swalign-0.3.7.tar.gz (7.8 kB)\n",
            "  Preparing metadata (setup.py) ... \u001b[?25l\u001b[?25hdone\n",
            "Building wheels for collected packages: swalign\n",
            "  Building wheel for swalign (setup.py) ... \u001b[?25l\u001b[?25hdone\n",
            "  Created wheel for swalign: filename=swalign-0.3.7-py3-none-any.whl size=8499 sha256=5380ef143ca6b57d27585a7b631a9faa07e27fe16a9bb77bad244ab9e859c88a\n",
            "  Stored in directory: /root/.cache/pip/wheels/e8/f6/21/329277dca6b477bbad22bedb5ce92ce474f6b75252713b06ca\n",
            "Successfully built swalign\n",
            "Installing collected packages: swalign\n",
            "Successfully installed swalign-0.3.7\n"
          ]
        }
      ]
    },
    {
      "cell_type": "markdown",
      "source": [
        "# **Importing the necessary modules**"
      ],
      "metadata": {
        "id": "YfZTtxUlN0Ic"
      }
    },
    {
      "cell_type": "code",
      "source": [
        "from indicnlp.tokenize import sentence_tokenize, indic_tokenize\n",
        "from indicnlp import common     #Provides common functions and configuration for Indic NLP Library.\n",
        "import string\n",
        "import pandas as pd\n",
        "import numpy as np\n",
        "import Levenshtein\n",
        "import gradio as gr\n",
        "import swalign\n",
        "import nltk\n",
        "\n",
        "nltk.download('punkt')"
      ],
      "metadata": {
        "colab": {
          "base_uri": "https://localhost:8080/"
        },
        "id": "B9WBGiodJ13w",
        "outputId": "de14c9a1-3a04-4a26-e153-e12b5cbdcba5"
      },
      "execution_count": 5,
      "outputs": [
        {
          "output_type": "stream",
          "name": "stderr",
          "text": [
            "[nltk_data] Downloading package punkt to /root/nltk_data...\n",
            "[nltk_data]   Unzipping tokenizers/punkt.zip.\n"
          ]
        },
        {
          "output_type": "execute_result",
          "data": {
            "text/plain": [
              "True"
            ]
          },
          "metadata": {},
          "execution_count": 5
        }
      ]
    },
    {
      "cell_type": "markdown",
      "source": [
        "# **Setting Indic NLP Resoure path**"
      ],
      "metadata": {
        "id": "scATgPa_N-hq"
      }
    },
    {
      "cell_type": "code",
      "source": [
        "# Set the Indic NLP path\n",
        "INDIC_NLP_RESOURCES = \"/root/indic_nlp_resources\"\n",
        "common.set_resources_path(INDIC_NLP_RESOURCES)       #Sets the path to the resources that the Indic NLP library will use.\n",
        "                                                     #Ensures that the tokenization functions can access the necessary models and data files"
      ],
      "metadata": {
        "id": "X_tbU5_pJ-V-"
      },
      "execution_count": 6,
      "outputs": []
    },
    {
      "cell_type": "markdown",
      "source": [
        "# **Uploading the CSV File**"
      ],
      "metadata": {
        "id": "N6Rn7v7oOEUT"
      }
    },
    {
      "cell_type": "code",
      "source": [
        "# Provide the full path to the CSV file in your Google Drive\n",
        "df = pd.read_csv('/content/drive/MyDrive/sem7/NLP/new try project/main/hindi_dataset.csv', encoding='utf-8')\n",
        "\n",
        "# Preview the first few rows to check the content\n",
        "df.head()\n",
        "\n",
        "# The column with text is named 'text'\n",
        "top_1000 = df['text'][:1000]"
      ],
      "metadata": {
        "id": "NF6A-FRQKElV"
      },
      "execution_count": 7,
      "outputs": []
    },
    {
      "cell_type": "markdown",
      "source": [
        "# **Sentence Tokenization**"
      ],
      "metadata": {
        "id": "epmA0vWVOIm4"
      }
    },
    {
      "cell_type": "code",
      "source": [
        "def tokenize_sentences(top_1000):\n",
        "\n",
        "    tokenized_sentences = []\n",
        "\n",
        "    for sentence in top_1000:\n",
        "        # Ensuring the sentence is a string (skips NaNs or non-string types)\n",
        "        sentence = str(sentence)\n",
        "\n",
        "        # Sentence tokenization\n",
        "        sentences = sentence_tokenize.sentence_split(sentence, lang='hi')\n",
        "        tokenized_sentences.extend(sentences)  # Collect sentences\n",
        "\n",
        "    return tokenized_sentences\n",
        "\n",
        "tokenized_sentences = tokenize_sentences(top_1000)\n",
        "\n",
        "print(tokenized_sentences[:5])  # Print the first 5 tokenized sentences"
      ],
      "metadata": {
        "id": "eJyaQJlGKQ-e",
        "colab": {
          "base_uri": "https://localhost:8080/"
        },
        "outputId": "7d133af2-da2f-4815-bc0c-330e2c6193bc"
      },
      "execution_count": 8,
      "outputs": [
        {
          "output_type": "stream",
          "name": "stdout",
          "text": [
            "['भारतीय राजनीति में पिछड़ेपन के विचार का सूत्रीकरण उसे खत्म करने के मकसद से किया गया था', 'लेकिन अब ऐसा लग रहा है कि यह समझ बैकवर्डनेस खत्म करने के बजाय उसकी विभिन्न किस्मों के बीच होड़ में पतित हो गई है', 'जो पिछडे़ की श्रेणी में है, वह पिछड़ा बने रहने पर तुला है', 'जिन व्यक्तियों और समुदायों की आत्मछवि पिछड़े की नहीं थी, वे भी पिछड़ा बनने में जुट गए हैं', 'व्यावहारिक धरातल पर पिछड़ापन मानवीय अस्तित्व की अवमानना न हो कर उसके लिए लाभकारी मान लिया गया है']\n"
          ]
        }
      ]
    },
    {
      "cell_type": "markdown",
      "source": [
        "# **Word Tokenization**"
      ],
      "metadata": {
        "id": "vyPPw8_qOKLL"
      }
    },
    {
      "cell_type": "code",
      "source": [
        "def tokenize_words(sentences):\n",
        "\n",
        "    tokenized_words = []\n",
        "\n",
        "    for sent in sentences:\n",
        "        words = indic_tokenize.trivial_tokenize(sent)  # Tokenizing words\n",
        "        tokenized_words.extend(words)\n",
        "\n",
        "    return tokenized_words\n",
        "\n",
        "tokenized_words = tokenize_words(tokenized_sentences)\n",
        "\n",
        "print(tokenized_words[:5])  # Print the first 5 tokenized words\n",
        "\n",
        "print(tokenized_words[:50])  # Print the first 50 tokenized words"
      ],
      "metadata": {
        "id": "r-Wea6jgKR_A",
        "colab": {
          "base_uri": "https://localhost:8080/"
        },
        "outputId": "064adcc2-2f94-4a12-ee5d-7e8dd0ef1b46"
      },
      "execution_count": 9,
      "outputs": [
        {
          "output_type": "stream",
          "name": "stdout",
          "text": [
            "['भारतीय', 'राजनीति', 'में', 'पिछड़ेपन', 'के']\n",
            "['भारतीय', 'राजनीति', 'में', 'पिछड़ेपन', 'के', 'विचार', 'का', 'सूत्रीकरण', 'उसे', 'खत्म', 'करने', 'के', 'मकसद', 'से', 'किया', 'गया', 'था', 'लेकिन', 'अब', 'ऐसा', 'लग', 'रहा', 'है', 'कि', 'यह', 'समझ', 'बैकवर्डनेस', 'खत्म', 'करने', 'के', 'बजाय', 'उसकी', 'विभिन्न', 'किस्मों', 'के', 'बीच', 'होड़', 'में', 'पतित', 'हो', 'गई', 'है', 'जो', 'पिछडे़', 'की', 'श्रेणी', 'में', 'है', ',', 'वह']\n"
          ]
        }
      ]
    },
    {
      "cell_type": "markdown",
      "source": [
        "# **Punctuation & White Space Removal**"
      ],
      "metadata": {
        "id": "jo1cRCcYOQz7"
      }
    },
    {
      "cell_type": "code",
      "source": [
        "def remove_punctuation(tokenized_words):\n",
        "\n",
        "    # Create a set of Hindi punctuation marks\n",
        "    hindi_punctuation = set(['।', '“', '”', '‘', '’', '(', ')', '[', ']', '{', '}', ',', ';', ':', '?', '!', '...'])\n",
        "\n",
        "    # Combine English and Hindi punctuation for removal\n",
        "    all_punctuation = set(string.punctuation).union(hindi_punctuation)       #string module is used\n",
        "\n",
        "    # Remove punctuation from tokenized words\n",
        "    cleaned_words = [word.strip() for word in tokenized_words if word not in all_punctuation] #WHITE SPACE REMOVAL\n",
        "\n",
        "    return cleaned_words\n",
        "\n",
        "cleaned_words = remove_punctuation(tokenized_words)\n",
        "print(cleaned_words[:50])"
      ],
      "metadata": {
        "id": "FdAe_daSKULp",
        "colab": {
          "base_uri": "https://localhost:8080/"
        },
        "outputId": "d90bc6a3-44c6-415b-965c-c03414d587cf"
      },
      "execution_count": 10,
      "outputs": [
        {
          "output_type": "stream",
          "name": "stdout",
          "text": [
            "['भारतीय', 'राजनीति', 'में', 'पिछड़ेपन', 'के', 'विचार', 'का', 'सूत्रीकरण', 'उसे', 'खत्म', 'करने', 'के', 'मकसद', 'से', 'किया', 'गया', 'था', 'लेकिन', 'अब', 'ऐसा', 'लग', 'रहा', 'है', 'कि', 'यह', 'समझ', 'बैकवर्डनेस', 'खत्म', 'करने', 'के', 'बजाय', 'उसकी', 'विभिन्न', 'किस्मों', 'के', 'बीच', 'होड़', 'में', 'पतित', 'हो', 'गई', 'है', 'जो', 'पिछडे़', 'की', 'श्रेणी', 'में', 'है', 'वह', 'पिछड़ा']\n"
          ]
        }
      ]
    },
    {
      "cell_type": "markdown",
      "source": [
        "# **Stop Words Removal**"
      ],
      "metadata": {
        "id": "Lbsc2VEUOUWM"
      }
    },
    {
      "cell_type": "code",
      "source": [
        "def stop_word_removal(cleaned_words):\n",
        "# Load stop words directly from the URL using pandas\n",
        "    url = \"https://raw.githubusercontent.com/stopwords-iso/stopwords-hi/refs/heads/master/stopwords-hi.txt\"\n",
        "    stop_words_df = pd.read_csv(url, header=None)\n",
        "\n",
        "    # Convert the DataFrame to a set of stop words\n",
        "    stop_words = set(stop_words_df[0].tolist())\n",
        "\n",
        "    # Remove stop words from the cleaned tokenized words\n",
        "    filtered_words = [word for word in cleaned_words if word not in stop_words]\n",
        "\n",
        "    return filtered_words\n",
        "\n",
        "filtered_words = stop_word_removal(cleaned_words)\n",
        "\n",
        "# Display the top 5 filtered words\n",
        "print(filtered_words[0:50])"
      ],
      "metadata": {
        "id": "TlFY8EFTKeP1",
        "colab": {
          "base_uri": "https://localhost:8080/"
        },
        "outputId": "878c0e2a-0b30-46cf-9754-f46c924e6b85"
      },
      "execution_count": 11,
      "outputs": [
        {
          "output_type": "stream",
          "name": "stdout",
          "text": [
            "['भारतीय', 'राजनीति', 'पिछड़ेपन', 'विचार', 'सूत्रीकरण', 'खत्म', 'मकसद', 'अब', 'ऐसा', 'लग', 'समझ', 'बैकवर्डनेस', 'खत्म', 'बजाय', 'उसकी', 'विभिन्न', 'किस्मों', 'बीच', 'होड़', 'पतित', 'गई', 'पिछडे़', 'श्रेणी', 'पिछड़ा', 'बने', 'रहने', 'तुला', 'व्यक्तियों', 'समुदायों', 'आत्मछवि', 'पिछड़े', 'पिछड़ा', 'बनने', 'जुट', 'गए', 'व्यावहारिक', 'धरातल', 'पिछड़ापन', 'मानवीय', 'अस्तित्व', 'अवमानना', 'लाभकारी', 'मान', 'लिया', 'कम', 'पिछड़ा', 'खुद', 'ज्यादा', 'पिछड़ा', 'बता']\n"
          ]
        }
      ]
    },
    {
      "cell_type": "markdown",
      "source": [
        "# **Duplicates Removal**"
      ],
      "metadata": {
        "id": "sv9pr4_nOXdd"
      }
    },
    {
      "cell_type": "code",
      "source": [
        "def duplicates_removal(filtered_words):\n",
        "    unique_filtered_words = pd.Series(filtered_words).drop_duplicates().tolist()\n",
        "    return unique_filtered_words\n",
        "\n",
        "unique_filtered_words = duplicates_removal(filtered_words)\n",
        "\n",
        "# Display the top 50 unique filtered words\n",
        "print(unique_filtered_words[:50])"
      ],
      "metadata": {
        "id": "ZMufBwrMKjOf",
        "colab": {
          "base_uri": "https://localhost:8080/"
        },
        "outputId": "0bba15fe-f92d-4ded-9848-273e6cc79942"
      },
      "execution_count": 12,
      "outputs": [
        {
          "output_type": "stream",
          "name": "stdout",
          "text": [
            "['भारतीय', 'राजनीति', 'पिछड़ेपन', 'विचार', 'सूत्रीकरण', 'खत्म', 'मकसद', 'अब', 'ऐसा', 'लग', 'समझ', 'बैकवर्डनेस', 'बजाय', 'उसकी', 'विभिन्न', 'किस्मों', 'बीच', 'होड़', 'पतित', 'गई', 'पिछडे़', 'श्रेणी', 'पिछड़ा', 'बने', 'रहने', 'तुला', 'व्यक्तियों', 'समुदायों', 'आत्मछवि', 'पिछड़े', 'बनने', 'जुट', 'गए', 'व्यावहारिक', 'धरातल', 'पिछड़ापन', 'मानवीय', 'अस्तित्व', 'अवमानना', 'लाभकारी', 'मान', 'लिया', 'कम', 'खुद', 'ज्यादा', 'बता', 'निहित', 'स्वार्थ', 'बनाने', 'जघन्य']\n"
          ]
        }
      ]
    },
    {
      "cell_type": "markdown",
      "source": [
        "# **Storing Tokens as NumPy Array Elements**"
      ],
      "metadata": {
        "id": "fDSOOe7kOh_g"
      }
    },
    {
      "cell_type": "code",
      "source": [
        "# Convert the tokenized words list to a numpy array\n",
        "tokenized_array = np.array(unique_filtered_words)\n",
        "\n",
        "# Display the array\n",
        "print(tokenized_array)\n",
        "print(len(tokenized_array))"
      ],
      "metadata": {
        "id": "sXS08Y_MK5SX",
        "colab": {
          "base_uri": "https://localhost:8080/"
        },
        "outputId": "5df9ef9a-1632-4b08-9a4f-bec2e9ff6b5a"
      },
      "execution_count": 13,
      "outputs": [
        {
          "output_type": "stream",
          "name": "stdout",
          "text": [
            "['भारतीय' 'राजनीति' 'पिछड़ेपन' ... 'काला' 'समानांतर' 'गुना']\n",
            "4359\n"
          ]
        }
      ]
    },
    {
      "cell_type": "markdown",
      "source": [
        "# **User Input**"
      ],
      "metadata": {
        "id": "V-DVEfpJOlCz"
      }
    },
    {
      "cell_type": "code",
      "source": [
        "user_input = input(\"Enter your text: \")\n",
        "\n",
        "# eg for usage : भारतीय भरत विवध संस्कृतियो, परंपरा और परिदृश्यों"
      ],
      "metadata": {
        "id": "YKLuQZOUK5-X",
        "colab": {
          "base_uri": "https://localhost:8080/"
        },
        "outputId": "8221b476-b70b-4cb5-cb63-8e52e0671988"
      },
      "execution_count": 14,
      "outputs": [
        {
          "name": "stdout",
          "output_type": "stream",
          "text": [
            "Enter your text: भारतीय भरत विवध संस्कृतियो, परंपरा और परिदृश्यों\n"
          ]
        }
      ]
    },
    {
      "cell_type": "markdown",
      "source": [
        "# **Preprocessing the User Input**"
      ],
      "metadata": {
        "id": "_ckLNVJZOoDQ"
      }
    },
    {
      "cell_type": "code",
      "source": [
        "# Tokenizing sentences\n",
        "ts = tokenize_sentences([user_input])\n",
        "\n",
        "# Tokenizing words\n",
        "tw = tokenize_words(ts)\n",
        "\n",
        "print(ts)\n",
        "print(tw)"
      ],
      "metadata": {
        "id": "PFcsyBO_LM8y",
        "colab": {
          "base_uri": "https://localhost:8080/"
        },
        "outputId": "f20610b6-f6b1-40f7-8d3e-3ad8f516469a"
      },
      "execution_count": 15,
      "outputs": [
        {
          "output_type": "stream",
          "name": "stdout",
          "text": [
            "['भारतीय भरत विवध संस्कृतियो, परंपरा और परिदृश्यों']\n",
            "['भारतीय', 'भरत', 'विवध', 'संस्कृतियो', ',', 'परंपरा', 'और', 'परिदृश्यों']\n"
          ]
        }
      ]
    },
    {
      "cell_type": "code",
      "source": [
        "# Punctuation removal\n",
        "text_wo_punct= remove_punctuation(tw)\n",
        "print(text_wo_punct)"
      ],
      "metadata": {
        "id": "-9kZxPrkLO8m",
        "colab": {
          "base_uri": "https://localhost:8080/"
        },
        "outputId": "6ad9ec77-4639-4cd0-9072-5817d0c5b8c9"
      },
      "execution_count": 16,
      "outputs": [
        {
          "output_type": "stream",
          "name": "stdout",
          "text": [
            "['भारतीय', 'भरत', 'विवध', 'संस्कृतियो', 'परंपरा', 'और', 'परिदृश्यों']\n"
          ]
        }
      ]
    },
    {
      "cell_type": "code",
      "source": [
        "# Stop Word Removal\n",
        "text_wo_stopw=stop_word_removal(text_wo_punct)\n",
        "print(text_wo_stopw)"
      ],
      "metadata": {
        "id": "5A0bany2LQmK",
        "colab": {
          "base_uri": "https://localhost:8080/"
        },
        "outputId": "3bffa0d1-d8be-431a-b181-04ed211ca9ec"
      },
      "execution_count": 17,
      "outputs": [
        {
          "output_type": "stream",
          "name": "stdout",
          "text": [
            "['भारतीय', 'भरत', 'विवध', 'संस्कृतियो', 'परंपरा', 'परिदृश्यों']\n"
          ]
        }
      ]
    },
    {
      "cell_type": "code",
      "source": [
        "# Duplicates removal\n",
        "text_wo_duplicate=duplicates_removal(text_wo_stopw)\n",
        "print(text_wo_duplicate)"
      ],
      "metadata": {
        "id": "lpJTkKhFLSmF",
        "colab": {
          "base_uri": "https://localhost:8080/"
        },
        "outputId": "42781d18-0df3-4b64-8794-0d5405b49023"
      },
      "execution_count": 18,
      "outputs": [
        {
          "output_type": "stream",
          "name": "stdout",
          "text": [
            "['भारतीय', 'भरत', 'विवध', 'संस्कृतियो', 'परंपरा', 'परिदृश्यों']\n"
          ]
        }
      ]
    },
    {
      "cell_type": "code",
      "source": [
        "user_array = np.array(text_wo_duplicate)\n",
        "print(\"Tokenized Array:\", user_array)\n",
        "print(\"Length of Tokenized Array:\", len(user_array))"
      ],
      "metadata": {
        "id": "JoQcXNOhLUjh",
        "colab": {
          "base_uri": "https://localhost:8080/"
        },
        "outputId": "a438a5e9-90ab-418a-b958-7e39b141e711"
      },
      "execution_count": 19,
      "outputs": [
        {
          "output_type": "stream",
          "name": "stdout",
          "text": [
            "Tokenized Array: ['भारतीय' 'भरत' 'विवध' 'संस्कृतियो' 'परंपरा' 'परिदृश्यों']\n",
            "Length of Tokenized Array: 6\n"
          ]
        }
      ]
    },
    {
      "cell_type": "markdown",
      "source": [
        "# **Accuracy calculation function**"
      ],
      "metadata": {
        "id": "_5KzCYxgOqaQ"
      }
    },
    {
      "cell_type": "code",
      "source": [
        "# **Accuracy Calculation**\n",
        "def calculate_accuracy(correct_words, total_words):\n",
        "    return (correct_words / total_words) * 100 if total_words > 0 else 0"
      ],
      "metadata": {
        "id": "-GsOtiE2L--p"
      },
      "execution_count": 20,
      "outputs": []
    },
    {
      "cell_type": "markdown",
      "source": [
        "# **Prediction using Levenshtein Distance**"
      ],
      "metadata": {
        "id": "STL_4J6fOvqK"
      }
    },
    {
      "cell_type": "code",
      "source": [
        "def find_closest_words(target_word, word_list, top_n=5):\n",
        "    # Calculate distances and store them in a list\n",
        "    distances = []\n",
        "    for w in word_list:\n",
        "        if w == target_word:\n",
        "            return \"correct\"  # If exact match, return \"correct\"\n",
        "        else:\n",
        "            distances.append((w, Levenshtein.distance(target_word, w)))\n",
        "\n",
        "    # Sort by edit distance (ascending order)\n",
        "    distances.sort(key=lambda x: x[1])\n",
        "\n",
        "    # Get top N closest words with their distances\n",
        "    return distances[:top_n]\n",
        "\n",
        "# Variables for accuracy calculation\n",
        "total_words = len(user_array)\n",
        "correct_predictions_levenshtein = 0\n",
        "\n",
        "# Find the closest words for each unique word in the user_array\n",
        "for word in user_array:\n",
        "    closest_words = find_closest_words(word, tokenized_array)\n",
        "\n",
        "    if closest_words == \"correct\":\n",
        "        correct_predictions_levenshtein += 1\n",
        "        print(f\"\\nWord '{word}' is correct.\")\n",
        "    else:\n",
        "        # If the word is incorrect, print \"incorrect\"\n",
        "        print(f\"\\nWord '{word}' is incorrect.\")\n",
        "        print(\"\\nSuggestions with Levenshtein edit distances:\")\n",
        "        for closest_word, distance in closest_words:\n",
        "            print(f\"Word: '{closest_word}', Edit Distance: {distance}\")\n",
        "\n",
        "        # Print the predicted word (the one with the smallest edit distance)\n",
        "        predicted_word = closest_words[0][0]\n",
        "        print(f\"\\nPredicted word for '{word}': '{predicted_word}'\")\n",
        "\n",
        "# Calculate and print accuracy\n",
        "accuracy_levenshtein = calculate_accuracy(correct_predictions_levenshtein, total_words)\n",
        "print(f\"\\nLevenshtein Accuracy: {accuracy_levenshtein:.2f}%\")"
      ],
      "metadata": {
        "id": "gjG5Gq7_LY5g",
        "colab": {
          "base_uri": "https://localhost:8080/"
        },
        "outputId": "f9a01ea3-c7d8-4537-9b30-631d70133c78"
      },
      "execution_count": 21,
      "outputs": [
        {
          "output_type": "stream",
          "name": "stdout",
          "text": [
            "\n",
            "Word 'भारतीय' is correct.\n",
            "\n",
            "Word 'भरत' is incorrect.\n",
            "\n",
            "Suggestions with Levenshtein edit distances:\n",
            "Word: 'भूत', Edit Distance: 1\n",
            "Word: 'भारत', Edit Distance: 1\n",
            "Word: 'भरा', Edit Distance: 1\n",
            "Word: 'भर', Edit Distance: 1\n",
            "Word: 'भरे', Edit Distance: 1\n",
            "\n",
            "Predicted word for 'भरत': 'भूत'\n",
            "\n",
            "Word 'विवध' is incorrect.\n",
            "\n",
            "Suggestions with Levenshtein edit distances:\n",
            "Word: 'विविध', Edit Distance: 1\n",
            "Word: 'विरोध', Edit Distance: 2\n",
            "Word: 'विल', Edit Distance: 2\n",
            "Word: 'विवाद', Edit Distance: 2\n",
            "Word: 'विफल', Edit Distance: 2\n",
            "\n",
            "Predicted word for 'विवध': 'विविध'\n",
            "\n",
            "Word 'संस्कृतियो' is incorrect.\n",
            "\n",
            "Suggestions with Levenshtein edit distances:\n",
            "Word: 'स्थितियों', Edit Distance: 5\n",
            "Word: 'हस्तियों', Edit Distance: 5\n",
            "Word: 'व्यक्तियों', Edit Distance: 6\n",
            "Word: 'सदस्य', Edit Distance: 6\n",
            "Word: 'संस्थागत', Edit Distance: 6\n",
            "\n",
            "Predicted word for 'संस्कृतियो': 'स्थितियों'\n",
            "\n",
            "Word 'परंपरा' is correct.\n",
            "\n",
            "Word 'परिदृश्यों' is incorrect.\n",
            "\n",
            "Suggestions with Levenshtein edit distances:\n",
            "Word: 'विदेशियों', Edit Distance: 4\n",
            "Word: 'परिवारों', Edit Distance: 5\n",
            "Word: 'दृश्य', Edit Distance: 5\n",
            "Word: 'रेश्यो', Edit Distance: 5\n",
            "Word: 'परिजनों', Edit Distance: 5\n",
            "\n",
            "Predicted word for 'परिदृश्यों': 'विदेशियों'\n",
            "\n",
            "Levenshtein Accuracy: 33.33%\n"
          ]
        }
      ]
    },
    {
      "cell_type": "markdown",
      "source": [
        "# **Prediction using Smith-Waterman**"
      ],
      "metadata": {
        "id": "S1r3QbNnO0gq"
      }
    },
    {
      "cell_type": "code",
      "source": [
        "# INBUILT - SWALIGN\n",
        "\n",
        "# Initialize the swalign aligner with custom scoring\n",
        "match_score = 2\n",
        "mismatch_penalty = -1\n",
        "gap_penalty = -1\n",
        "\n",
        "# Define scoring matrix\n",
        "scoring = swalign.NucleotideScoringMatrix(match_score, mismatch_penalty)\n",
        "aligner = swalign.LocalAlignment(scoring, gap_penalty)  # Smith-Waterman is a local alignment algorithm\n",
        "\n",
        "# Function to compute Smith-Waterman alignment score using swalign\n",
        "def smith_waterman_swalign(s1, s2):\n",
        "    alignment = aligner.align(s1, s2)\n",
        "    return alignment.score\n",
        "\n",
        "# Function to find the closest words using swalign for Smith-Waterman alignment\n",
        "def find_closest_words_sw_swalign(target_word, word_list, top_n=5):\n",
        "    scores = []\n",
        "\n",
        "    for word in word_list:\n",
        "        if word == target_word:\n",
        "            return \"correct\"  # Exact match\n",
        "        else:\n",
        "            # Calculate the Smith-Waterman score using swalign\n",
        "            score = smith_waterman_swalign(target_word, word)\n",
        "            scores.append((word, score))\n",
        "\n",
        "    # Sort by score in descending order (higher score means closer match)\n",
        "    scores.sort(key=lambda x: x[1], reverse=True)\n",
        "\n",
        "    # Return the top N closest words with their scores\n",
        "    return scores[:top_n]\n",
        "\n",
        "# Variables for accuracy calculation\n",
        "correct_predictions_sw = 0\n",
        "total_words = len(user_array)\n",
        "\n",
        "for word in user_array:\n",
        "    closest_words_sw = find_closest_words_sw_swalign(word, tokenized_array)\n",
        "\n",
        "    if closest_words_sw == \"correct\":\n",
        "        correct_predictions_sw += 1\n",
        "        print(f\"\\nWord '{word}' is correct.\")\n",
        "    else:\n",
        "        print(f\"\\nWord '{word}' is incorrect.\")\n",
        "        print(\"\\nSuggestions with Smith-Waterman scores:\")\n",
        "        for closest_word, score in closest_words_sw:\n",
        "            print(f\"Word: '{closest_word}', Score: {score}\")\n",
        "\n",
        "        # Predicted word based on highest Smith-Waterman score\n",
        "        predicted_word_sw = closest_words_sw[0][0]\n",
        "        print(f\"\\nPredicted word for '{word}': '{predicted_word_sw}'\")\n",
        "\n",
        "# Calculate and print accuracy\n",
        "accuracy_sw = calculate_accuracy(correct_predictions_sw, total_words)\n",
        "print(f\"\\nSmith-Waterman Accuracy: {accuracy_sw:.2f}%\")"
      ],
      "metadata": {
        "id": "BoqsDF4nDy3A",
        "colab": {
          "base_uri": "https://localhost:8080/"
        },
        "outputId": "c7d06500-90ca-44ad-c386-0e9ccd2a5c7b"
      },
      "execution_count": 22,
      "outputs": [
        {
          "output_type": "stream",
          "name": "stdout",
          "text": [
            "\n",
            "Word 'भारतीय' is correct.\n",
            "\n",
            "Word 'भरत' is incorrect.\n",
            "\n",
            "Suggestions with Smith-Waterman scores:\n",
            "Word: 'उभरती', Score: 6\n",
            "Word: 'भरते', Score: 6\n",
            "Word: 'निर्भरता', Score: 6\n",
            "Word: 'भारतीय', Score: 5\n",
            "Word: 'भारत', Score: 5\n",
            "\n",
            "Predicted word for 'भरत': 'उभरती'\n",
            "\n",
            "Word 'विवध' is incorrect.\n",
            "\n",
            "Suggestions with Smith-Waterman scores:\n",
            "Word: 'विविध', Score: 7\n",
            "Word: 'विवादित', Score: 6\n",
            "Word: 'विवाद', Score: 6\n",
            "Word: 'रविवार', Score: 6\n",
            "Word: 'विवादों', Score: 6\n",
            "\n",
            "Predicted word for 'विवध': 'विविध'\n",
            "\n",
            "Word 'संस्कृतियो' is incorrect.\n",
            "\n",
            "Suggestions with Smith-Waterman scores:\n",
            "Word: 'व्यक्तियों', Score: 10\n",
            "Word: 'परिस्थितियों', Score: 10\n",
            "Word: 'स्थितियों', Score: 10\n",
            "Word: 'हस्तियों', Score: 10\n",
            "Word: 'नियुक्तियों', Score: 9\n",
            "\n",
            "Predicted word for 'संस्कृतियो': 'व्यक्तियों'\n",
            "\n",
            "Word 'परंपरा' is correct.\n",
            "\n",
            "Word 'परिदृश्यों' is incorrect.\n",
            "\n",
            "Suggestions with Smith-Waterman scores:\n",
            "Word: 'दृश्य', Score: 10\n",
            "Word: 'विदेशियों', Score: 10\n",
            "Word: 'क्योंकि', Score: 8\n",
            "Word: 'क्यों', Score: 8\n",
            "Word: 'तथ्यों', Score: 8\n",
            "\n",
            "Predicted word for 'परिदृश्यों': 'दृश्य'\n",
            "\n",
            "Smith-Waterman Accuracy: 33.33%\n"
          ]
        }
      ]
    },
    {
      "cell_type": "code",
      "source": [
        "# MANUAL\n",
        "\n",
        "# Smith-Waterman implementation\n",
        "def smith_waterman_score(s1, s2, match=2, mismatch=-1, gap=-1):\n",
        "    m, n = len(s1), len(s2)\n",
        "    score_matrix = np.zeros((m + 1, n + 1))\n",
        "\n",
        "    max_score = 0\n",
        "\n",
        "    # Populate the score matrix\n",
        "    for i in range(1, m + 1):\n",
        "        for j in range(1, n + 1):\n",
        "            if s1[i - 1] == s2[j - 1]:\n",
        "                score = match\n",
        "            else:\n",
        "                score = mismatch\n",
        "\n",
        "            diagonal_score = score_matrix[i - 1][j - 1] + score\n",
        "            up_score = score_matrix[i - 1][j] + gap\n",
        "            left_score = score_matrix[i][j - 1] + gap\n",
        "            score_matrix[i][j] = max(0, diagonal_score, up_score, left_score)\n",
        "\n",
        "            # Track the max score\n",
        "            if score_matrix[i][j] > max_score:\n",
        "                max_score = score_matrix[i][j]\n",
        "\n",
        "    return max_score\n",
        "\n",
        "# Function to find the closest words using Smith-Waterman\n",
        "def find_closest_words_sw(target_word, word_list, top_n=5):\n",
        "    scores = []\n",
        "\n",
        "    for word in word_list:\n",
        "        if word == target_word:\n",
        "            return \"correct\"  # Exact match\n",
        "        else:\n",
        "            # Calculate the Smith-Waterman score\n",
        "            score = smith_waterman_score(target_word, word)\n",
        "            scores.append((word, score))\n",
        "\n",
        "    # Sort by score in descending order (higher score means closer match)\n",
        "    scores.sort(key=lambda x: x[1], reverse=True)\n",
        "\n",
        "    # Return the top N closest words with their scores\n",
        "    return scores[:top_n]\n",
        "\n",
        "# Variables for accuracy calculation\n",
        "correct_predictions_sw = 0\n",
        "\n",
        "for word in user_array:\n",
        "    closest_words_sw = find_closest_words_sw(word, tokenized_array)  # Same structure as Levenshtein\n",
        "\n",
        "    if closest_words_sw == \"correct\":\n",
        "        correct_predictions_sw += 1\n",
        "        print(f\"\\nWord '{word}' is correct.\")\n",
        "    else:\n",
        "        print(f\"\\nWord '{word}' is incorrect.\")\n",
        "        print(\"\\nSuggestions with Smith-Waterman scores:\")\n",
        "        for closest_word, score in closest_words_sw:\n",
        "            print(f\"Word: '{closest_word}', Score: {score}\")\n",
        "\n",
        "        # Predicted word based on highest Smith-Waterman score\n",
        "        predicted_word_sw = closest_words_sw[0][0]\n",
        "        print(f\"\\nPredicted word for '{word}': '{predicted_word_sw}'\")\n",
        "\n",
        "# Calculate and print accuracy\n",
        "accuracy_sw = calculate_accuracy(correct_predictions_sw, total_words)\n",
        "print(f\"\\nSmith-Waterman Accuracy: {accuracy_sw:.2f}%\")"
      ],
      "metadata": {
        "id": "vPQh_gXQLesO",
        "colab": {
          "base_uri": "https://localhost:8080/"
        },
        "outputId": "dcdc9d05-dc8c-40e3-9652-c3be18cf1053"
      },
      "execution_count": 23,
      "outputs": [
        {
          "output_type": "stream",
          "name": "stdout",
          "text": [
            "\n",
            "Word 'भारतीय' is correct.\n",
            "\n",
            "Word 'भरत' is incorrect.\n",
            "\n",
            "Suggestions with Smith-Waterman scores:\n",
            "Word: 'उभरती', Score: 6.0\n",
            "Word: 'भरते', Score: 6.0\n",
            "Word: 'निर्भरता', Score: 6.0\n",
            "Word: 'भारतीय', Score: 5.0\n",
            "Word: 'भारत', Score: 5.0\n",
            "\n",
            "Predicted word for 'भरत': 'उभरती'\n",
            "\n",
            "Word 'विवध' is incorrect.\n",
            "\n",
            "Suggestions with Smith-Waterman scores:\n",
            "Word: 'विविध', Score: 7.0\n",
            "Word: 'विवादित', Score: 6.0\n",
            "Word: 'विवाद', Score: 6.0\n",
            "Word: 'रविवार', Score: 6.0\n",
            "Word: 'विवादों', Score: 6.0\n",
            "\n",
            "Predicted word for 'विवध': 'विविध'\n",
            "\n",
            "Word 'संस्कृतियो' is incorrect.\n",
            "\n",
            "Suggestions with Smith-Waterman scores:\n",
            "Word: 'व्यक्तियों', Score: 10.0\n",
            "Word: 'परिस्थितियों', Score: 10.0\n",
            "Word: 'स्थितियों', Score: 10.0\n",
            "Word: 'हस्तियों', Score: 10.0\n",
            "Word: 'नियुक्तियों', Score: 9.0\n",
            "\n",
            "Predicted word for 'संस्कृतियो': 'व्यक्तियों'\n",
            "\n",
            "Word 'परंपरा' is correct.\n",
            "\n",
            "Word 'परिदृश्यों' is incorrect.\n",
            "\n",
            "Suggestions with Smith-Waterman scores:\n",
            "Word: 'दृश्य', Score: 10.0\n",
            "Word: 'विदेशियों', Score: 10.0\n",
            "Word: 'क्योंकि', Score: 8.0\n",
            "Word: 'क्यों', Score: 8.0\n",
            "Word: 'तथ्यों', Score: 8.0\n",
            "\n",
            "Predicted word for 'परिदृश्यों': 'दृश्य'\n",
            "\n",
            "Smith-Waterman Accuracy: 33.33%\n"
          ]
        }
      ]
    },
    {
      "cell_type": "markdown",
      "source": [
        "# **GUI using Gradio**"
      ],
      "metadata": {
        "id": "qLgeBzfIO-6t"
      }
    },
    {
      "cell_type": "code",
      "source": [
        "import gradio as gr\n",
        "def process_text_with_sw(user_input):\n",
        "    # Tokenize the sentences and words\n",
        "    tokenized_sentences = tokenize_sentences([user_input])\n",
        "    tokenized_words = tokenize_words(tokenized_sentences)\n",
        "\n",
        "    # Remove punctuation\n",
        "    text_wo_punct = remove_punctuation(tokenized_words)\n",
        "\n",
        "    # Remove stop words\n",
        "    text_wo_stopw = stop_word_removal(text_wo_punct)\n",
        "\n",
        "    # Remove duplicates\n",
        "    text_wo_duplicate = duplicates_removal(text_wo_stopw)\n",
        "\n",
        "    # Convert to NumPy array\n",
        "    user_array = np.array(text_wo_duplicate)\n",
        "\n",
        "    lev_correct = 0\n",
        "    sw_correct = 0\n",
        "    total_words = len(user_array)\n",
        "\n",
        "    lev_results = \"\"\n",
        "    sw_results = \"\"\n",
        "\n",
        "    for word in user_array:\n",
        "        # Levenshtein distance\n",
        "        closest_words_lev = find_closest_words(word, tokenized_array)\n",
        "        if closest_words_lev == \"correct\":\n",
        "            lev_results += f\"\\nWord '{word}' is correct (Levenshtein).\\n\"\n",
        "            lev_correct += 1\n",
        "        else:\n",
        "            predicted_word_lev = closest_words_lev[0][0]\n",
        "            lev_results += f\"\\nWord '{word}' is incorrect (Levenshtein).\\nPredicted word: '{predicted_word_lev}'\\n\"\n",
        "\n",
        "        # Smith-Waterman distance\n",
        "        closest_words_sw = find_closest_words_sw(word, tokenized_array)\n",
        "        if closest_words_sw == \"correct\":\n",
        "            sw_results += f\"\\nWord '{word}' is correct (Smith-Waterman).\\n\"\n",
        "            sw_correct += 1\n",
        "        else:\n",
        "            predicted_word_sw = closest_words_sw[0][0]\n",
        "            sw_results += f\"\\nWord '{word}' is incorrect (Smith-Waterman).\\nPredicted word: '{predicted_word_sw}'\\n\"\n",
        "\n",
        "    # Calculate accuracy for both algorithms\n",
        "    lev_accuracy = calculate_accuracy(lev_correct, total_words)\n",
        "    sw_accuracy = calculate_accuracy(sw_correct, total_words)\n",
        "\n",
        "    # Append accuracy results\n",
        "    lev_results += f\"\\nLevenshtein Accuracy: {lev_accuracy:.2f}% ({lev_correct}/{total_words})\"\n",
        "    sw_results += f\"\\nSmith-Waterman Accuracy: {sw_accuracy:.2f}% ({sw_correct}/{total_words})\"\n",
        "\n",
        "    return lev_results, sw_results\n",
        "\n",
        "# Define the Gradio interface for both algorithms\n",
        "iface_sw = gr.Interface(\n",
        "    fn=process_text_with_sw,\n",
        "    inputs=gr.Textbox(label=\"Enter Hindi Text Here :\"),\n",
        "    outputs=[\n",
        "        gr.Textbox(label=\"Levenshtein Results\"),\n",
        "        gr.Textbox(label=\"Smith-Waterman Results\")\n",
        "    ],\n",
        "    title=\"SHUDDH लेखन : Hindi Spelling Checker\",\n",
        "    description=\"Enter your Hindi text to tokenize it, remove punctuation and stop words, and find the closest words based on Levenshtein Algorithm and Smith-Waterman algorithm.\"\n",
        ")\n",
        "\n",
        "# Launch the Gradio interface\n",
        "iface_sw.launch(share=True)"
      ],
      "metadata": {
        "id": "qek7kI-kMNNd",
        "colab": {
          "base_uri": "https://localhost:8080/",
          "height": 611
        },
        "outputId": "9af20c4c-96ff-4fbc-dd73-3e35c1cda8d1"
      },
      "execution_count": 24,
      "outputs": [
        {
          "output_type": "stream",
          "name": "stdout",
          "text": [
            "Colab notebook detected. To show errors in colab notebook, set debug=True in launch()\n",
            "* Running on public URL: https://e891c34f89c76bad43.gradio.live\n",
            "\n",
            "This share link expires in 72 hours. For free permanent hosting and GPU upgrades, run `gradio deploy` from the terminal in the working directory to deploy to Hugging Face Spaces (https://huggingface.co/spaces)\n"
          ]
        },
        {
          "output_type": "display_data",
          "data": {
            "text/plain": [
              "<IPython.core.display.HTML object>"
            ],
            "text/html": [
              "<div><iframe src=\"https://e891c34f89c76bad43.gradio.live\" width=\"100%\" height=\"500\" allow=\"autoplay; camera; microphone; clipboard-read; clipboard-write;\" frameborder=\"0\" allowfullscreen></iframe></div>"
            ]
          },
          "metadata": {}
        },
        {
          "output_type": "execute_result",
          "data": {
            "text/plain": []
          },
          "metadata": {},
          "execution_count": 24
        }
      ]
    }
  ]
}